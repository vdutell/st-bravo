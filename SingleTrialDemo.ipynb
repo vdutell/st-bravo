{
 "cells": [
  {
   "cell_type": "markdown",
   "id": "2d782f7e-f994-41fc-8126-4bd8429174e2",
   "metadata": {},
   "source": [
    "# Example Pipeline for Single Trial\n",
    "Assume Calibration Complete in 0a Calibration"
   ]
  },
  {
   "cell_type": "code",
   "execution_count": null,
   "id": "0cb325dc-aa2c-4337-ae40-5e52da83db41",
   "metadata": {},
   "outputs": [],
   "source": [
    "trial = 0\n"
   ]
  },
  {
   "cell_type": "code",
   "execution_count": null,
   "id": "ab2c6363-4eed-4bfd-aae6-e338c6f2e109",
   "metadata": {},
   "outputs": [],
   "source": [
    "import os, stat\n",
    "import numpy as np\n",
    "import matplotlib.pyplot as plt\n",
    "import imp\n"
   ]
  }
 ],
 "metadata": {
  "kernelspec": {
   "display_name": "Python 3",
   "language": "python",
   "name": "python3"
  },
  "language_info": {
   "codemirror_mode": {
    "name": "ipython",
    "version": 3
   },
   "file_extension": ".py",
   "mimetype": "text/x-python",
   "name": "python",
   "nbconvert_exporter": "python",
   "pygments_lexer": "ipython3",
   "version": "3.7.9"
  }
 },
 "nbformat": 4,
 "nbformat_minor": 5
}
